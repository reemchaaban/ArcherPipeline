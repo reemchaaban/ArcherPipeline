{
  "nbformat": 4,
  "nbformat_minor": 0,
  "metadata": {
    "colab": {
      "provenance": [],
      "include_colab_link": true
    },
    "kernelspec": {
      "name": "python3",
      "display_name": "Python 3"
    },
    "language_info": {
      "name": "python"
    }
  },
  "cells": [
    {
      "cell_type": "markdown",
      "metadata": {
        "id": "view-in-github",
        "colab_type": "text"
      },
      "source": [
        "<a href=\"https://colab.research.google.com/github/reemchaaban/ArcherPipeline/blob/main/game_rec_training.ipynb\" target=\"_parent\"><img src=\"https://colab.research.google.com/assets/colab-badge.svg\" alt=\"Open In Colab\"/></a>"
      ]
    },
    {
      "cell_type": "markdown",
      "source": [
        "# GAME RECOMMENDATION SYSTEM"
      ],
      "metadata": {
        "id": "wSXThhww_aUp"
      }
    },
    {
      "cell_type": "markdown",
      "source": [
        "## PREPROCESSING"
      ],
      "metadata": {
        "id": "LCk-3UCpGG6_"
      }
    },
    {
      "cell_type": "code",
      "source": [
        "import os\n",
        "import json\n",
        "import sys\n",
        "import warnings\n",
        "import pandas as pd\n",
        "!pip install numpy==1.26.4\n",
        "import numpy as np\n",
        "from google.colab import drive, files\n",
        "\n",
        "warnings.filterwarnings(\"ignore\")\n",
        "\n",
        "from sklearn.preprocessing import MultiLabelBinarizer, MinMaxScaler\n",
        "from scipy.sparse import coo_matrix, csr_matrix\n",
        "\n",
        "!pip install lightfm optuna\n",
        "from lightfm import LightFM\n",
        "from lightfm.cross_validation import random_train_test_split\n",
        "from lightfm.evaluation import precision_at_k\n",
        "\n",
        "import optuna\n",
        "\n",
        "!pip install gensim\n",
        "from gensim.models import Word2Vec\n"
      ],
      "metadata": {
        "id": "dE_cV_0i_eTo",
        "colab": {
          "base_uri": "https://localhost:8080/"
        },
        "outputId": "adb2e9d6-038a-4b18-adaf-67aa46eaa523"
      },
      "execution_count": null,
      "outputs": [
        {
          "output_type": "stream",
          "name": "stdout",
          "text": [
            "Requirement already satisfied: numpy==1.26.4 in /usr/local/lib/python3.11/dist-packages (1.26.4)\n",
            "Requirement already satisfied: lightfm in /usr/local/lib/python3.11/dist-packages (1.17)\n",
            "Requirement already satisfied: optuna in /usr/local/lib/python3.11/dist-packages (4.2.1)\n",
            "Requirement already satisfied: numpy in /usr/local/lib/python3.11/dist-packages (from lightfm) (1.26.4)\n",
            "Requirement already satisfied: scipy>=0.17.0 in /usr/local/lib/python3.11/dist-packages (from lightfm) (1.13.1)\n",
            "Requirement already satisfied: requests in /usr/local/lib/python3.11/dist-packages (from lightfm) (2.32.3)\n",
            "Requirement already satisfied: scikit-learn in /usr/local/lib/python3.11/dist-packages (from lightfm) (1.6.1)\n",
            "Requirement already satisfied: alembic>=1.5.0 in /usr/local/lib/python3.11/dist-packages (from optuna) (1.15.2)\n",
            "Requirement already satisfied: colorlog in /usr/local/lib/python3.11/dist-packages (from optuna) (6.9.0)\n",
            "Requirement already satisfied: packaging>=20.0 in /usr/local/lib/python3.11/dist-packages (from optuna) (24.2)\n",
            "Requirement already satisfied: sqlalchemy>=1.4.2 in /usr/local/lib/python3.11/dist-packages (from optuna) (2.0.40)\n",
            "Requirement already satisfied: tqdm in /usr/local/lib/python3.11/dist-packages (from optuna) (4.67.1)\n",
            "Requirement already satisfied: PyYAML in /usr/local/lib/python3.11/dist-packages (from optuna) (6.0.2)\n",
            "Requirement already satisfied: Mako in /usr/lib/python3/dist-packages (from alembic>=1.5.0->optuna) (1.1.3)\n",
            "Requirement already satisfied: typing-extensions>=4.12 in /usr/local/lib/python3.11/dist-packages (from alembic>=1.5.0->optuna) (4.13.0)\n",
            "Requirement already satisfied: greenlet>=1 in /usr/local/lib/python3.11/dist-packages (from sqlalchemy>=1.4.2->optuna) (3.1.1)\n",
            "Requirement already satisfied: charset-normalizer<4,>=2 in /usr/local/lib/python3.11/dist-packages (from requests->lightfm) (3.4.1)\n",
            "Requirement already satisfied: idna<4,>=2.5 in /usr/local/lib/python3.11/dist-packages (from requests->lightfm) (3.10)\n",
            "Requirement already satisfied: urllib3<3,>=1.21.1 in /usr/local/lib/python3.11/dist-packages (from requests->lightfm) (2.3.0)\n",
            "Requirement already satisfied: certifi>=2017.4.17 in /usr/local/lib/python3.11/dist-packages (from requests->lightfm) (2025.1.31)\n",
            "Requirement already satisfied: joblib>=1.2.0 in /usr/local/lib/python3.11/dist-packages (from scikit-learn->lightfm) (1.4.2)\n",
            "Requirement already satisfied: threadpoolctl>=3.1.0 in /usr/local/lib/python3.11/dist-packages (from scikit-learn->lightfm) (3.6.0)\n",
            "Requirement already satisfied: gensim in /usr/local/lib/python3.11/dist-packages (4.3.3)\n",
            "Requirement already satisfied: numpy<2.0,>=1.18.5 in /usr/local/lib/python3.11/dist-packages (from gensim) (1.26.4)\n",
            "Requirement already satisfied: scipy<1.14.0,>=1.7.0 in /usr/local/lib/python3.11/dist-packages (from gensim) (1.13.1)\n",
            "Requirement already satisfied: smart-open>=1.8.1 in /usr/local/lib/python3.11/dist-packages (from gensim) (7.1.0)\n",
            "Requirement already satisfied: wrapt in /usr/local/lib/python3.11/dist-packages (from smart-open>=1.8.1->gensim) (1.17.2)\n"
          ]
        }
      ]
    },
    {
      "cell_type": "code",
      "source": [
        "drive.mount('/content/drive')\n",
        "drive_base_path = '/content/drive/My Drive/503Nproj/game-rec'\n",
        "file_path = os.path.join(drive_base_path, 'synthetic_training_data.json')\n",
        "\n",
        "with open(file_path, 'r') as file:\n",
        "    data = json.load(file)"
      ],
      "metadata": {
        "id": "RDRrLEqPG8de",
        "colab": {
          "base_uri": "https://localhost:8080/"
        },
        "outputId": "0bb42bfa-029d-47ca-bb1f-5c3f3ab612b3"
      },
      "execution_count": null,
      "outputs": [
        {
          "output_type": "stream",
          "name": "stdout",
          "text": [
            "Drive already mounted at /content/drive; to attempt to forcibly remount, call drive.mount(\"/content/drive\", force_remount=True).\n"
          ]
        }
      ]
    },
    {
      "cell_type": "code",
      "source": [
        "# lists initialized for interaction matrix\n",
        "player_ids = []\n",
        "game_ids = []\n",
        "hours_played = []\n",
        "\n",
        "# lists initialized for game features\n",
        "game_features = {}"
      ],
      "metadata": {
        "id": "dp3vozJEJWBe"
      },
      "execution_count": null,
      "outputs": []
    },
    {
      "cell_type": "code",
      "source": [
        "# data processing\n",
        "for player, details in data.items():\n",
        "    for game_id, game_data in details[\"games\"].items():\n",
        "        # interaction matrix\n",
        "        player_ids.append(player)\n",
        "        game_ids.append(game_id)\n",
        "        hours_played.append(game_data[\"hours\"])\n",
        "\n",
        "        # collection of game features\n",
        "        if game_id not in game_features:\n",
        "            game_features[game_id] = {\n",
        "                \"rating_ratio\": game_data[\"rating_ratio\"],\n",
        "                \"price\": float(game_data[\"price\"]),\n",
        "                \"genre\": game_data[\"genre\"],\n",
        "                \"tags\": game_data[\"tags\"]\n",
        "            }"
      ],
      "metadata": {
        "id": "ZWPQ9qCRJdWn"
      },
      "execution_count": null,
      "outputs": []
    },
    {
      "cell_type": "code",
      "source": [
        "# creation of interaction matrix\n",
        "player_idx = {player: i for i, player in enumerate(set(player_ids))}\n",
        "game_idx = {game: i for i, game in enumerate(set(game_ids))}\n",
        "rows = [player_idx[p] for p in player_ids]\n",
        "cols = [game_idx[g] for g in game_ids]\n",
        "data = hours_played\n",
        "interaction_matrix = coo_matrix((data, (rows, cols)), shape=(len(player_idx), len(game_idx))).tocsr()"
      ],
      "metadata": {
        "id": "MHB1qcTLL-55"
      },
      "execution_count": null,
      "outputs": []
    },
    {
      "cell_type": "code",
      "source": [
        "# game features ->> DataFrame\n",
        "game_df = pd.DataFrame.from_dict(game_features, orient='index')"
      ],
      "metadata": {
        "id": "vbLnyjehMFd6"
      },
      "execution_count": null,
      "outputs": []
    },
    {
      "cell_type": "code",
      "source": [
        "# Word2Vec embedding\n",
        "\n",
        "tag_sentences = list(game_df['tags'].apply(lambda x: x if isinstance(x, list) else []))\n",
        "word2vec = Word2Vec(sentences=tag_sentences, vector_size=50, window=5, min_count=1, workers=4)\n",
        "\n",
        "def get_embedding(tags):\n",
        "    vectors = [word2vec.wv[tag] for tag in tags if tag in word2vec.wv]\n",
        "    return np.mean(vectors, axis=0) if vectors else np.zeros(50)\n",
        "\n",
        "game_df['tag_embedding'] = game_df['tags'].apply(get_embedding)\n"
      ],
      "metadata": {
        "id": "em6JcmPjINUr"
      },
      "execution_count": null,
      "outputs": []
    },
    {
      "cell_type": "code",
      "source": [
        "print(\"Word2vec vector size = \", word2vec.vector_size)  # Should be >3\n",
        "\n",
        "print(game_df)  # Check what features look like\n"
      ],
      "metadata": {
        "colab": {
          "base_uri": "https://localhost:8080/"
        },
        "id": "07QIhWxYcZpX",
        "outputId": "7d033946-6677-4365-b090-9b771e425b65"
      },
      "execution_count": null,
      "outputs": [
        {
          "output_type": "stream",
          "name": "stdout",
          "text": [
            "Word2vec vector size =  50\n",
            "         rating_ratio   price  \\\n",
            "1203220         2.363     0.0   \n",
            "433850          1.258     0.0   \n",
            "250900         36.967   899.0   \n",
            "1063730         2.188  4199.0   \n",
            "582010          7.299  2999.0   \n",
            "...               ...     ...   \n",
            "255710         13.356   299.0   \n",
            "289070          6.586   599.0   \n",
            "438100          3.089     0.0   \n",
            "108600         16.160  1099.0   \n",
            "8930           22.865  2999.0   \n",
            "\n",
            "                                                     genre  \\\n",
            "1203220         [Action, Adventure, Massively Multiplayer]   \n",
            "433850   [Action, Adventure, Free To Play, Massively Mu...   \n",
            "250900                                            [Action]   \n",
            "1063730    [Action, Adventure, Massively Multiplayer, RPG]   \n",
            "582010                                            [Action]   \n",
            "...                                                    ...   \n",
            "255710                              [Simulation, Strategy]   \n",
            "289070                                          [Strategy]   \n",
            "438100   [Adventure, Casual, Massively Multiplayer, Sim...   \n",
            "108600              [Indie, RPG, Simulation, Early Access]   \n",
            "8930                                            [Strategy]   \n",
            "\n",
            "                                                      tags  \\\n",
            "1203220  [Battle Royale, Multiplayer, Martial Arts, PvP...   \n",
            "433850   [Survival, Massively Multiplayer, Multiplayer,...   \n",
            "250900   [Action Roguelike, Rogue-like, Indie, Replay V...   \n",
            "1063730  [Open World, Massively Multiplayer, MMORPG, RP...   \n",
            "582010   [Co-op, Multiplayer, Action, Open World, RPG, ...   \n",
            "...                                                    ...   \n",
            "255710   [City Builder, Simulation, Building, Managemen...   \n",
            "289070   [Strategy, Turn-Based Strategy, Multiplayer, H...   \n",
            "438100   [VR, Free to Play, Multiplayer, Anime, Memes, ...   \n",
            "108600   [Survival, Zombies, Open World, Multiplayer, O...   \n",
            "8930     [Turn-Based Strategy, Strategy, Turn-Based, Mu...   \n",
            "\n",
            "                                             tag_embedding  \n",
            "1203220  [0.003731294, -0.0032680943, 0.00043108285, 0....  \n",
            "433850   [0.0029788704, -0.0024175965, -0.0021823796, -...  \n",
            "250900   [0.0007402381, 0.0003144596, -0.0006647544, -0...  \n",
            "1063730  [0.005263499, -0.0022480178, -0.0021855254, -0...  \n",
            "582010   [0.0036647085, -0.0008349534, -0.007908487, -0...  \n",
            "...                                                    ...  \n",
            "255710   [8.7891356e-05, -8.453887e-05, -0.0026210896, ...  \n",
            "289070   [0.0026935705, 0.002441278, -0.0045700073, -0....  \n",
            "438100   [0.0056673056, -0.0019435523, -0.0043178927, -...  \n",
            "108600   [0.004938906, 0.0004536321, -0.0029939264, -0....  \n",
            "8930     [0.00528666, -0.0022030994, -0.00629358, 0.001...  \n",
            "\n",
            "[99 rows x 5 columns]\n"
          ]
        }
      ]
    },
    {
      "cell_type": "code",
      "source": [
        "# drop original lists\n",
        "game_df.drop(columns=['genre', 'tags'], inplace=True)\n",
        "\n",
        "# price & rating ratio normalization\n",
        "scaler = MinMaxScaler()\n",
        "game_df[['rating_ratio', 'price']] = scaler.fit_transform(game_df[['rating_ratio', 'price']])\n",
        "\n",
        "print(\"Interaction matrix shape:\", interaction_matrix.shape)\n",
        "print(\"Game features shape:\", game_df.shape)"
      ],
      "metadata": {
        "id": "Zx9RJLWEMM3B",
        "colab": {
          "base_uri": "https://localhost:8080/"
        },
        "outputId": "e0d93d88-494d-4d95-a70a-5d47e6102edd"
      },
      "execution_count": null,
      "outputs": [
        {
          "output_type": "stream",
          "name": "stdout",
          "text": [
            "Interaction matrix shape: (50000, 99)\n",
            "Game features shape: (99, 3)\n"
          ]
        }
      ]
    },
    {
      "cell_type": "code",
      "source": [
        "# Ensure the embeddings are expanded into separate numerical columns\n",
        "game_embeddings = np.vstack(game_df['tag_embedding'].values)  # Use vstack instead of stack\n",
        "\n",
        "# Drop old embedding column\n",
        "game_df = game_df.drop(columns=['tag_embedding'])\n",
        "\n",
        "# Ensure all columns are numerical\n",
        "game_feature_matrix = np.hstack([game_df.to_numpy(), game_embeddings])\n",
        "\n",
        "print(\"Game Features Shape:\", game_feature_matrix.shape)  # Should be (99, 52) if 50-dim Word2Vec + 2 other features"
      ],
      "metadata": {
        "id": "5L_iL8ASHvIV",
        "colab": {
          "base_uri": "https://localhost:8080/"
        },
        "outputId": "b7c8a432-69b6-4aff-c014-08e71f6df1e3"
      },
      "execution_count": null,
      "outputs": [
        {
          "output_type": "stream",
          "name": "stdout",
          "text": [
            "Game Features Shape: (99, 52)\n"
          ]
        }
      ]
    },
    {
      "cell_type": "code",
      "source": [
        "def objective(trial):\n",
        "    loss = trial.suggest_categorical(\"loss\", [\"warp\", \"bpr\", \"logistic\"])\n",
        "    components = trial.suggest_int(\"components\", 10, 100)\n",
        "    item_alpha = trial.suggest_loguniform(\"item_alpha\", 1e-6, 1e-2)\n",
        "    user_alpha = trial.suggest_loguniform(\"user_alpha\", 1e-6, 1e-2)\n",
        "    learning_rate = trial.suggest_loguniform(\"learning_rate\", 1e-4, 1e-1)\n",
        "\n",
        "\n",
        "    model = LightFM(loss=loss, no_components=components, item_alpha=item_alpha, user_alpha=user_alpha, learning_rate=learning_rate)\n",
        "    model.fit(train, epochs=10, num_threads=4, item_features=csr_matrix(game_feature_matrix))\n",
        "\n",
        "    test_precision = precision_at_k(model, test, k=5, item_features=csr_matrix(game_feature_matrix)).mean()\n",
        "    return test_precision"
      ],
      "metadata": {
        "id": "BgHiDmHbIFB-"
      },
      "execution_count": null,
      "outputs": []
    },
    {
      "cell_type": "code",
      "source": [
        "# train-test split (80-20)\n",
        "train, test = random_train_test_split(interaction_matrix, test_percentage=0.2)\n",
        "\n",
        "# optuna for hyperparameter tuning\n",
        "study = optuna.create_study(direction='maximize')\n",
        "study.optimize(objective, n_trials=20)\n",
        "\n",
        "best_params = study.best_params\n",
        "print(f\"Best hyperparameters: {best_params}\")"
      ],
      "metadata": {
        "id": "ra-TQIwkbQ_X",
        "colab": {
          "base_uri": "https://localhost:8080/"
        },
        "outputId": "d39f0607-3ff8-4002-bdc8-6a8c0c4e4a1e"
      },
      "execution_count": null,
      "outputs": [
        {
          "output_type": "stream",
          "name": "stderr",
          "text": [
            "[I 2025-04-04 12:40:09,227] A new study created in memory with name: no-name-3dab8d1d-df2d-47f5-8dc6-ca1d83e37c4a\n",
            "[I 2025-04-04 12:40:46,602] Trial 0 finished with value: 0.021655529737472534 and parameters: {'loss': 'warp', 'components': 13, 'item_alpha': 9.646951934108638e-06, 'user_alpha': 0.0007107310782189796, 'learning_rate': 0.0758958974145939}. Best is trial 0 with value: 0.021655529737472534.\n",
            "[I 2025-04-04 12:41:35,878] Trial 1 finished with value: 0.01624983176589012 and parameters: {'loss': 'logistic', 'components': 38, 'item_alpha': 0.00028408446715785183, 'user_alpha': 1.5256429804318574e-05, 'learning_rate': 0.002532793505306361}. Best is trial 0 with value: 0.021655529737472534.\n",
            "[I 2025-04-04 12:42:30,509] Trial 2 finished with value: 0.020335469394922256 and parameters: {'loss': 'warp', 'components': 21, 'item_alpha': 1.096128998780821e-06, 'user_alpha': 0.00018306552747785157, 'learning_rate': 0.07440319660146542}. Best is trial 0 with value: 0.021655529737472534.\n",
            "[I 2025-04-04 12:43:32,176] Trial 3 finished with value: 0.019511796534061432 and parameters: {'loss': 'bpr', 'components': 25, 'item_alpha': 0.000544114381129944, 'user_alpha': 1.3659885681015532e-05, 'learning_rate': 0.0666580032218685}. Best is trial 0 with value: 0.021655529737472534.\n",
            "[I 2025-04-04 12:44:27,873] Trial 4 finished with value: 0.021077321842312813 and parameters: {'loss': 'bpr', 'components': 21, 'item_alpha': 2.039841889266314e-06, 'user_alpha': 0.0003667301930708273, 'learning_rate': 0.05927824368713544}. Best is trial 0 with value: 0.021655529737472534.\n",
            "[I 2025-04-04 12:45:42,120] Trial 5 finished with value: 0.01624983176589012 and parameters: {'loss': 'logistic', 'components': 60, 'item_alpha': 0.009279247265443435, 'user_alpha': 0.0005902697400003288, 'learning_rate': 0.0009939974702566504}. Best is trial 0 with value: 0.021655529737472534.\n",
            "[I 2025-04-04 12:47:10,830] Trial 6 finished with value: 0.017231691628694534 and parameters: {'loss': 'warp', 'components': 36, 'item_alpha': 0.00921955827536215, 'user_alpha': 2.93997547224085e-05, 'learning_rate': 0.016229152492502445}. Best is trial 0 with value: 0.021655529737472534.\n",
            "[I 2025-04-04 12:48:51,413] Trial 7 finished with value: 0.017940815538167953 and parameters: {'loss': 'logistic', 'components': 77, 'item_alpha': 0.0024425930745037346, 'user_alpha': 1.6753657211925826e-06, 'learning_rate': 0.004321278130865037}. Best is trial 0 with value: 0.021655529737472534.\n",
            "[I 2025-04-04 12:49:41,798] Trial 8 finished with value: 0.02171553298830986 and parameters: {'loss': 'warp', 'components': 20, 'item_alpha': 0.0002566625303967459, 'user_alpha': 3.334825185308506e-06, 'learning_rate': 0.00047855294280665624}. Best is trial 8 with value: 0.02171553298830986.\n",
            "[I 2025-04-04 12:51:46,667] Trial 9 finished with value: 0.018464475870132446 and parameters: {'loss': 'logistic', 'components': 95, 'item_alpha': 0.00757290861057279, 'user_alpha': 2.6950251779208953e-06, 'learning_rate': 0.002035783539777625}. Best is trial 8 with value: 0.02171553298830986.\n",
            "[I 2025-04-04 12:53:55,930] Trial 10 finished with value: 0.02298104576766491 and parameters: {'loss': 'warp', 'components': 53, 'item_alpha': 3.405269389037201e-05, 'user_alpha': 0.007227539049266429, 'learning_rate': 0.00015445194789740532}. Best is trial 10 with value: 0.02298104576766491.\n",
            "[I 2025-04-04 12:56:14,485] Trial 11 finished with value: 0.02298104576766491 and parameters: {'loss': 'warp', 'components': 56, 'item_alpha': 3.623246196135235e-05, 'user_alpha': 0.009520835175665, 'learning_rate': 0.0001397849711715324}. Best is trial 10 with value: 0.02298104576766491.\n",
            "[I 2025-04-04 12:58:34,335] Trial 12 finished with value: 0.02298104576766491 and parameters: {'loss': 'warp', 'components': 58, 'item_alpha': 3.135481945505337e-05, 'user_alpha': 0.00988191159869251, 'learning_rate': 0.00011286880243434887}. Best is trial 10 with value: 0.02298104576766491.\n",
            "[I 2025-04-04 13:01:28,315] Trial 13 finished with value: 0.02298104576766491 and parameters: {'loss': 'warp', 'components': 73, 'item_alpha': 3.514788538206866e-05, 'user_alpha': 0.00885195966650955, 'learning_rate': 0.0001032453060952366}. Best is trial 10 with value: 0.02298104576766491.\n",
            "[I 2025-04-04 13:03:20,567] Trial 14 finished with value: 0.020760944113135338 and parameters: {'loss': 'warp', 'components': 46, 'item_alpha': 7.146991302949277e-06, 'user_alpha': 0.0023646762287971566, 'learning_rate': 0.00034935211016640837}. Best is trial 10 with value: 0.02298104576766491.\n",
            "[I 2025-04-04 13:06:09,783] Trial 15 finished with value: 0.02298104576766491 and parameters: {'loss': 'warp', 'components': 70, 'item_alpha': 5.7462516298833384e-05, 'user_alpha': 0.0021786261327646646, 'learning_rate': 0.0003999937133944866}. Best is trial 10 with value: 0.02298104576766491.\n",
            "[I 2025-04-04 13:08:01,575] Trial 16 finished with value: 0.020586391910910606 and parameters: {'loss': 'bpr', 'components': 48, 'item_alpha': 9.89080983618756e-06, 'user_alpha': 0.0024158142085258867, 'learning_rate': 0.00021033216750494219}. Best is trial 10 with value: 0.02298104576766491.\n",
            "[I 2025-04-04 13:11:33,832] Trial 17 finished with value: 0.02298104576766491 and parameters: {'loss': 'warp', 'components': 84, 'item_alpha': 0.00010671995598778464, 'user_alpha': 0.0038451410921892864, 'learning_rate': 0.0009621644042764673}. Best is trial 10 with value: 0.02298104576766491.\n",
            "[I 2025-04-04 13:14:16,905] Trial 18 finished with value: 0.018415380269289017 and parameters: {'loss': 'warp', 'components': 67, 'item_alpha': 4.260668511609694e-06, 'user_alpha': 7.92399145628538e-05, 'learning_rate': 0.007907421395965451}. Best is trial 10 with value: 0.02298104576766491.\n",
            "[I 2025-04-04 13:16:11,290] Trial 19 finished with value: 0.019609982147812843 and parameters: {'loss': 'bpr', 'components': 49, 'item_alpha': 2.0446881094892963e-05, 'user_alpha': 0.0010888293457113323, 'learning_rate': 0.0001891285196166441}. Best is trial 10 with value: 0.02298104576766491.\n"
          ]
        },
        {
          "output_type": "stream",
          "name": "stdout",
          "text": [
            "Best hyperparameters: {'loss': 'warp', 'components': 53, 'item_alpha': 3.405269389037201e-05, 'user_alpha': 0.007227539049266429, 'learning_rate': 0.00015445194789740532}\n"
          ]
        }
      ]
    },
    {
      "cell_type": "code",
      "source": [
        "print(\"nice!\")"
      ],
      "metadata": {
        "colab": {
          "base_uri": "https://localhost:8080/"
        },
        "id": "_ysHIq74-PdH",
        "outputId": "2bd38432-a30c-431b-8de9-a88fc3c78e73"
      },
      "execution_count": null,
      "outputs": [
        {
          "output_type": "stream",
          "name": "stdout",
          "text": [
            "nice!\n"
          ]
        }
      ]
    },
    {
      "cell_type": "code",
      "source": [
        "# training with best hyperparameters\n",
        "\n",
        "final_model = LightFM(loss=best_params['loss'], no_components=best_params['components'],\n",
        "                      item_alpha=best_params['item_alpha'], user_alpha=best_params['user_alpha'], learning_rate=best_params['learning_rate'])\n",
        "\n",
        "game_feature_matrix = csr_matrix(game_feature_matrix)\n",
        "\n",
        "final_model.fit(train, epochs=10, num_threads=4, item_features=game_feature_matrix)"
      ],
      "metadata": {
        "id": "MUhZkjNUIbjs",
        "colab": {
          "base_uri": "https://localhost:8080/"
        },
        "outputId": "fbbbcfcf-56fc-4fb1-ed53-cbf03a1a3187"
      },
      "execution_count": null,
      "outputs": [
        {
          "output_type": "execute_result",
          "data": {
            "text/plain": [
              "<lightfm.lightfm.LightFM at 0x7c726fb85e90>"
            ]
          },
          "metadata": {},
          "execution_count": 33
        }
      ]
    },
    {
      "cell_type": "code",
      "source": [
        "# model evaluation\n",
        "train_precision = precision_at_k(final_model, train, k=5, item_features=game_feature_matrix).mean()\n",
        "test_precision = precision_at_k(final_model, test, k=5, item_features=game_feature_matrix).mean()\n",
        "print(f\"Train precision at k=5: {train_precision:.4f}\")\n",
        "print(f\"Test precision at k=5: {test_precision:.4f}\")"
      ],
      "metadata": {
        "id": "Q8XUHu0NbUQD",
        "colab": {
          "base_uri": "https://localhost:8080/"
        },
        "outputId": "cd42080d-378a-422c-e733-33b7c33fc1bb"
      },
      "execution_count": null,
      "outputs": [
        {
          "output_type": "stream",
          "name": "stdout",
          "text": [
            "Train precision at k=5: 0.0592\n",
            "Test precision at k=5: 0.0207\n"
          ]
        }
      ]
    },
    {
      "cell_type": "code",
      "source": [
        "# recommend games\n",
        "def recommend_games(player_id, model, interaction_matrix, game_df, top_n=5):\n",
        "    scores = model.predict(player_id, np.arange(interaction_matrix.shape[1]), item_features=game_feature_matrix)\n",
        "    top_games = np.argsort(-scores)[:top_n]  # retrieve top N game indices\n",
        "    recommended_games = [list(game_df.index)[i] for i in top_games]\n",
        "\n",
        "    return recommended_games\n",
        "\n",
        "player_to_recommend = 0  # example: player 0\n",
        "recommended_games = recommend_games(player_to_recommend, final_model, interaction_matrix, game_df)\n",
        "print(\"Recommended game IDs:\", recommended_games)"
      ],
      "metadata": {
        "id": "ScnWi0PsbXz_",
        "colab": {
          "base_uri": "https://localhost:8080/"
        },
        "outputId": "d06f94a0-69ce-4bd2-f926-5bbb2576b571"
      },
      "execution_count": null,
      "outputs": [
        {
          "output_type": "stream",
          "name": "stdout",
          "text": [
            "Recommended game IDs: ['1938090', '1063730', '2358720', '899770', '553850']\n"
          ]
        }
      ]
    },
    {
      "cell_type": "code",
      "source": [
        "print(\"Interaction matrix Shape:\", interaction_matrix.shape)\n",
        "print(\"Game features Shape:\", game_df.shape)"
      ],
      "metadata": {
        "id": "fCpW4xqGbZ1x",
        "colab": {
          "base_uri": "https://localhost:8080/"
        },
        "outputId": "2c9dd851-35c0-401f-f03e-2f821d56bb2a"
      },
      "execution_count": null,
      "outputs": [
        {
          "output_type": "stream",
          "name": "stdout",
          "text": [
            "Interaction matrix Shape: (50000, 99)\n",
            "Game features Shape: (99, 2)\n"
          ]
        }
      ]
    },
    {
      "cell_type": "code",
      "source": [
        "from lightfm.evaluation import recall_at_k\n",
        "\n",
        "train_recall = recall_at_k(final_model, train, k=5, item_features=game_feature_matrix).mean()\n",
        "test_recall = recall_at_k(final_model, test, k=5, item_features=game_feature_matrix).mean()\n",
        "\n",
        "print(f\"Train Recall at k=5: {train_recall:.4f}\")\n",
        "print(f\"Test Recall at k=5: {test_recall:.4f}\")\n"
      ],
      "metadata": {
        "colab": {
          "base_uri": "https://localhost:8080/"
        },
        "id": "CPA43MNBBNKW",
        "outputId": "6d7b00cf-408e-49e0-a228-48b4ae86ed1e"
      },
      "execution_count": null,
      "outputs": [
        {
          "output_type": "stream",
          "name": "stdout",
          "text": [
            "Train Recall at k=5: 0.0573\n",
            "Test Recall at k=5: 0.0594\n"
          ]
        }
      ]
    },
    {
      "cell_type": "code",
      "source": [
        "from lightfm.evaluation import reciprocal_rank\n",
        "\n",
        "train_mrr = reciprocal_rank(final_model, train, item_features=game_feature_matrix).mean()\n",
        "test_mrr = reciprocal_rank(final_model, test, item_features=game_feature_matrix).mean()\n",
        "\n",
        "print(f\"Train MRR: {train_mrr:.4f}\")\n",
        "print(f\"Test MRR: {test_mrr:.4f}\")\n"
      ],
      "metadata": {
        "colab": {
          "base_uri": "https://localhost:8080/"
        },
        "id": "Ckd-CodqBaTz",
        "outputId": "a551667e-59fe-47f3-9687-cb269c38d89b"
      },
      "execution_count": null,
      "outputs": [
        {
          "output_type": "stream",
          "name": "stdout",
          "text": [
            "Train MRR: 0.1821\n",
            "Test MRR: 0.0854\n"
          ]
        }
      ]
    },
    {
      "cell_type": "code",
      "source": [
        "!pip install huggingface_hub transformers\n",
        "from huggingface_hub import login\n",
        "login()"
      ],
      "metadata": {
        "colab": {
          "base_uri": "https://localhost:8080/",
          "height": 312,
          "referenced_widgets": [
            "1b68b42d46e84801a7fde6069bdc9e1a",
            "edf0499bdd954064b7f5ada00226a3d2",
            "63f823ef03c941c7b628174ca2f030fb",
            "9a3d779dc44544ad9fc4e9810b3c62d6",
            "b67e567373d74526b2d05de7780b0d35",
            "437f8f41c16f419aafcd6bbe992a2b8b",
            "e469b9d04abf48c683201b1109e21f89",
            "6f79aa40775f48a399c8b27cbbb76ecb",
            "76a7976f0f3644d399f5886eba83a204",
            "a3f3b84c66424185a4c511c4374597a4",
            "2661eb541b11482abb61f9102b7e9258",
            "80f8f64df1604f8fb2196836793ebc6c",
            "8f25c7ae0722425f825d752b77ebcb15",
            "2cc27ea9f5bc485ab900ee916a023f1c",
            "cfaf2dcc4e344537a32282df088da73c",
            "769dce84b24545e0b2f866050ea36c3c",
            "fb2f818ef9b34885a72fbf2b9c5321ac",
            "c2d72e4438f7490a8aa6cce470a98332",
            "f97d1d82b2504853bef2bed2a8f64bd9",
            "102a6d5eaea64bee8727e41179c8e590"
          ]
        },
        "id": "8ppiYA9BBo3E",
        "outputId": "7240108c-d607-4ca9-c491-a7e89bd5c4e6"
      },
      "execution_count": null,
      "outputs": [
        {
          "output_type": "stream",
          "name": "stdout",
          "text": [
            "Requirement already satisfied: huggingface_hub in /usr/local/lib/python3.11/dist-packages (0.30.1)\n",
            "Requirement already satisfied: transformers in /usr/local/lib/python3.11/dist-packages (4.50.3)\n",
            "Requirement already satisfied: filelock in /usr/local/lib/python3.11/dist-packages (from huggingface_hub) (3.18.0)\n",
            "Requirement already satisfied: fsspec>=2023.5.0 in /usr/local/lib/python3.11/dist-packages (from huggingface_hub) (2025.3.2)\n",
            "Requirement already satisfied: packaging>=20.9 in /usr/local/lib/python3.11/dist-packages (from huggingface_hub) (24.2)\n",
            "Requirement already satisfied: pyyaml>=5.1 in /usr/local/lib/python3.11/dist-packages (from huggingface_hub) (6.0.2)\n",
            "Requirement already satisfied: requests in /usr/local/lib/python3.11/dist-packages (from huggingface_hub) (2.32.3)\n",
            "Requirement already satisfied: tqdm>=4.42.1 in /usr/local/lib/python3.11/dist-packages (from huggingface_hub) (4.67.1)\n",
            "Requirement already satisfied: typing-extensions>=3.7.4.3 in /usr/local/lib/python3.11/dist-packages (from huggingface_hub) (4.13.0)\n",
            "Requirement already satisfied: numpy>=1.17 in /usr/local/lib/python3.11/dist-packages (from transformers) (1.26.4)\n",
            "Requirement already satisfied: regex!=2019.12.17 in /usr/local/lib/python3.11/dist-packages (from transformers) (2024.11.6)\n",
            "Requirement already satisfied: tokenizers<0.22,>=0.21 in /usr/local/lib/python3.11/dist-packages (from transformers) (0.21.1)\n",
            "Requirement already satisfied: safetensors>=0.4.3 in /usr/local/lib/python3.11/dist-packages (from transformers) (0.5.3)\n",
            "Requirement already satisfied: charset-normalizer<4,>=2 in /usr/local/lib/python3.11/dist-packages (from requests->huggingface_hub) (3.4.1)\n",
            "Requirement already satisfied: idna<4,>=2.5 in /usr/local/lib/python3.11/dist-packages (from requests->huggingface_hub) (3.10)\n",
            "Requirement already satisfied: urllib3<3,>=1.21.1 in /usr/local/lib/python3.11/dist-packages (from requests->huggingface_hub) (2.3.0)\n",
            "Requirement already satisfied: certifi>=2017.4.17 in /usr/local/lib/python3.11/dist-packages (from requests->huggingface_hub) (2025.1.31)\n"
          ]
        },
        {
          "output_type": "display_data",
          "data": {
            "text/plain": [
              "VBox(children=(HTML(value='<center> <img\\nsrc=https://huggingface.co/front/assets/huggingface_logo-noborder.sv…"
            ],
            "application/vnd.jupyter.widget-view+json": {
              "version_major": 2,
              "version_minor": 0,
              "model_id": "1b68b42d46e84801a7fde6069bdc9e1a"
            }
          },
          "metadata": {}
        }
      ]
    },
    {
      "cell_type": "code",
      "source": [
        "import joblib\n",
        "import os\n",
        "\n",
        "model_path = \"game-rec-model\"\n",
        "if not os.path.exists(model_path):\n",
        "    os.makedirs(model_path)\n",
        "\n",
        "joblib.dump(final_model, os.path.join(model_path, 'game-rec.pkl'))\n"
      ],
      "metadata": {
        "colab": {
          "base_uri": "https://localhost:8080/"
        },
        "id": "paK88EYEB3oe",
        "outputId": "b7f7c5f0-fb6b-4fda-82da-6f929f76d2ad"
      },
      "execution_count": null,
      "outputs": [
        {
          "output_type": "execute_result",
          "data": {
            "text/plain": [
              "['game-rec-model/game-rec.pkl']"
            ]
          },
          "metadata": {},
          "execution_count": 43
        }
      ]
    },
    {
      "cell_type": "code",
      "source": [
        "from huggingface_hub import HfApi\n",
        "repo_id = \"reemchaaban/game-rec\"\n",
        "\n",
        "api = HfApi()\n",
        "api.create_repo(repo_id=repo_id, exist_ok=True)\n",
        "\n",
        "api.upload_file(\n",
        "    path_or_fileobj=os.path.join(model_path, 'game-rec.pkl'),\n",
        "    path_in_repo=\"game-rec.pkl\",\n",
        "    repo_id=repo_id,\n",
        ")\n"
      ],
      "metadata": {
        "colab": {
          "base_uri": "https://localhost:8080/",
          "height": 86
        },
        "id": "pfFUUdnaDJCF",
        "outputId": "e887fdc3-0f5a-44f2-935b-97b1bbbf8cf0"
      },
      "execution_count": null,
      "outputs": [
        {
          "output_type": "execute_result",
          "data": {
            "text/plain": [
              "CommitInfo(commit_url='https://huggingface.co/reemchaaban/game-rec/commit/fb2840a9d39f578981ec0146a9cbfd963e26ecb9', commit_message='Upload game-rec.pkl with huggingface_hub', commit_description='', oid='fb2840a9d39f578981ec0146a9cbfd963e26ecb9', pr_url=None, repo_url=RepoUrl('https://huggingface.co/reemchaaban/game-rec', endpoint='https://huggingface.co', repo_type='model', repo_id='reemchaaban/game-rec'), pr_revision=None, pr_num=None)"
            ],
            "application/vnd.google.colaboratory.intrinsic+json": {
              "type": "string"
            }
          },
          "metadata": {},
          "execution_count": 46
        }
      ]
    }
  ]
}